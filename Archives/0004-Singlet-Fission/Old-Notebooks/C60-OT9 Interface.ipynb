{
 "cells": [
  {
   "cell_type": "code",
   "execution_count": 1,
   "id": "7a5e6399-0148-4c83-9a90-d99f75944734",
   "metadata": {},
   "outputs": [],
   "source": [
    "using QuantumDynamics\n",
    "using Plots\n",
    "using LinearAlgebra"
   ]
  },
  {
   "cell_type": "code",
   "execution_count": 2,
   "id": "f161067e-cbca-4351-a29d-b7ba61b7797b",
   "metadata": {},
   "outputs": [
    {
     "data": {
      "text/plain": [
       "18.897"
      ]
     },
     "execution_count": 2,
     "metadata": {},
     "output_type": "execute_result"
    }
   ],
   "source": [
    "const thz2au = 0.0001519828500716\n",
    "const invcm2au = 4.55633e-6\n",
    "const au2fs = 0.02418884254\n",
    "const mev2invcm = 8.066\n",
    "const mev2au = mev2invcm * invcm2au\n",
    "const nm2au = 18.897"
   ]
  },
  {
   "cell_type": "code",
   "execution_count": null,
   "id": "5f81893d-5229-4f37-9395-be061e613b16",
   "metadata": {},
   "outputs": [],
   "source": []
  }
 ],
 "metadata": {
  "kernelspec": {
   "display_name": "Julia 1.10.0",
   "language": "julia",
   "name": "julia-1.10"
  },
  "language_info": {
   "file_extension": ".jl",
   "mimetype": "application/julia",
   "name": "julia",
   "version": "1.10.0"
  }
 },
 "nbformat": 4,
 "nbformat_minor": 5
}
