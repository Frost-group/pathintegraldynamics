{
 "cells": [
  {
   "cell_type": "code",
   "execution_count": 2,
   "id": "2b90e9b7",
   "metadata": {},
   "outputs": [],
   "source": [
    "using Plots\n",
    "using DelimitedFiles"
   ]
  },
  {
   "cell_type": "code",
   "execution_count": 3,
   "id": "665f3f88",
   "metadata": {},
   "outputs": [
    {
     "data": {
      "text/plain": [
       "18.897"
      ]
     },
     "execution_count": 3,
     "metadata": {},
     "output_type": "execute_result"
    }
   ],
   "source": [
    "const thz2au = 0.0001519828500716\n",
    "const invcm2au = 4.55633e-6\n",
    "const au2fs = 0.02418884254\n",
    "const mev2invcm = 8.066\n",
    "const mev2au = mev2invcm * invcm2au\n",
    "const nm2au = 18.897"
   ]
  },
  {
   "cell_type": "code",
   "execution_count": 10,
   "id": "143d1c46",
   "metadata": {},
   "outputs": [],
   "source": [
    "dlm = readdlm(\"N10rmax10InitSite1/polaron-1d-pops-rmax10.stdout\", Float64)\n",
    "t = dlm[:, 1].*au2fs\n",
    "ρs = []\n",
    "N = size(dlm)[2] - 1\n",
    "nsteps = size(dlm)[1]-1\n",
    "for i in 2:size(dlm)[2]\n",
    "    ρ = dlm[:, i]\n",
    "    push!(ρs, ρ)\n",
    "    plot!(t[2:nsteps], ρ[2:nsteps], label=\"site $(i-1)\", xscale=:log10, fmt = :png)\n",
    "end"
   ]
  },
  {
   "cell_type": "code",
   "execution_count": 9,
   "id": "68becbdb",
   "metadata": {},
   "outputs": [],
   "source": []
  },
  {
   "cell_type": "code",
   "execution_count": null,
   "id": "b9d82a2f",
   "metadata": {},
   "outputs": [],
   "source": []
  }
 ],
 "metadata": {
  "kernelspec": {
   "display_name": "Julia 1.10.0",
   "language": "julia",
   "name": "julia-1.10"
  },
  "language_info": {
   "file_extension": ".jl",
   "mimetype": "application/julia",
   "name": "julia",
   "version": "1.10.0"
  }
 },
 "nbformat": 4,
 "nbformat_minor": 5
}
