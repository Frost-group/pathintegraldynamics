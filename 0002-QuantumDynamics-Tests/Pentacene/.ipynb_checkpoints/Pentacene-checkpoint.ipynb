{
 "cells": [
  {
   "cell_type": "code",
   "execution_count": 1,
   "id": "fc0e771b",
   "metadata": {},
   "outputs": [],
   "source": [
    "using QuantumDynamics\n",
    "using Plots"
   ]
  },
  {
   "cell_type": "code",
   "execution_count": 2,
   "id": "547d9724",
   "metadata": {},
   "outputs": [
    {
     "data": {
      "text/plain": [
       "0.02418884254"
      ]
     },
     "execution_count": 2,
     "metadata": {},
     "output_type": "execute_result"
    }
   ],
   "source": [
    "const thz2au = 0.0001519828500716\n",
    "const invcm2au = 4.55633e-6\n",
    "const au2fs = 0.02418884254"
   ]
  },
  {
   "cell_type": "code",
   "execution_count": 3,
   "id": "aa143d82",
   "metadata": {},
   "outputs": [
    {
     "data": {
      "text/plain": [
       "QuantumDynamics.SpectralDensities.DrudeLorentz(0.00045563300000000005, 0.00022781650000000002, 1.0, 0.22781650000000003, false)"
      ]
     },
     "execution_count": 3,
     "metadata": {},
     "output_type": "execute_result"
    }
   ],
   "source": [
    "threshold = 1e-10\n",
    "nsteps = 1000\n",
    "dt = 1000 / au2fs / nsteps\n",
    "N = 4\n",
    "β = 1 / (300 * 3.16683e-6)\n",
    "\n",
    "Jw = SpectralDensities.DrudeLorentz(; λ=100.0*invcm2au, γ=50.0*invcm2au, Δs=1.0)"
   ]
  },
  {
   "cell_type": "code",
   "execution_count": 4,
   "id": "1a070a99",
   "metadata": {},
   "outputs": [
    {
     "data": {
      "text/plain": [
       "4×4 Matrix{ComplexF64}:\n",
       "       0.0+0.0im  0.0027338+0.0im        0.0+0.0im        0.0+0.0im\n",
       " 0.0027338+0.0im        0.0+0.0im  0.0027338+0.0im        0.0+0.0im\n",
       "       0.0+0.0im  0.0027338+0.0im        0.0+0.0im  0.0027338+0.0im\n",
       "       0.0+0.0im        0.0+0.0im  0.0027338+0.0im        0.0+0.0im"
      ]
     },
     "execution_count": 4,
     "metadata": {},
     "output_type": "execute_result"
    }
   ],
   "source": [
    "ϵb = 600 * invcm2au\n",
    "\n",
    "H0 = Matrix{ComplexF64}(zeros(N, N))\n",
    "ρ0 = Matrix{ComplexF64}(zeros(N, N))\n",
    "ρ0[1, 1] = 1.0 \n",
    "\n",
    "for i in 1:N\n",
    "    if i <= N-1\n",
    "        H0[i, i+1] = ϵb\n",
    "    end\n",
    "    if i >= 2\n",
    "        H0[i, i-1] = ϵb\n",
    "    end\n",
    "end\n",
    "H0"
   ]
  },
  {
   "cell_type": "code",
   "execution_count": 5,
   "id": "85d55787",
   "metadata": {},
   "outputs": [],
   "source": [
    "sys_ops = Vector{Matrix{ComplexF64}}()\n",
    "\n",
    "λs = repeat([35.0], 4) * invcm2au\n",
    "γs = 1 ./ (repeat([50.0], 4) ./ au2fs)\n",
    "JwD = Vector{SpectralDensities.DrudeLorentz}()\n",
    "sys_ops = Vector{Matrix{ComplexF64}}()\n",
    "\n",
    "for (j, (λ, γ)) in enumerate(zip(λs, γs)) \n",
    "    push!(JwD, SpectralDensities.DrudeLorentz(; λ, γ, Δs=1.0))\n",
    "    op = zeros(N, N)\n",
    "    op[j, j] = 1.0\n",
    "    push!(sys_ops, op)\n",
    "end"
   ]
  },
  {
   "cell_type": "code",
   "execution_count": null,
   "id": "9a9d8b09",
   "metadata": {},
   "outputs": [],
   "source": [
    "th, ρh = HEOM.propagate(; Hamiltonian=H0, ρ0=ρ0, Jw=JwD, β=β, ntimes=nsteps, dt=dt, sys_ops=sys_ops, num_modes=2, Lmax=3, scaled=true, threshold=1e-10, extraargs=Utilities.DiffEqArgs(; reltol=1e-6, abstol=1e-6))"
   ]
  },
  {
   "cell_type": "code",
   "execution_count": null,
   "id": "b35e98b9",
   "metadata": {},
   "outputs": [],
   "source": [
    "fbU = Propagators.calculate_bare_propagators(; Hamiltonian=H0, dt=dt, ntimes=nsteps)\n",
    "t, ρ = TTM.propagate(; fbU=fbU, Jw=[Jw], β=β, ρ0=ρ0, dt=dt, ntimes=nsteps, rmax=1, extraargs=QuAPI.QuAPIArgs(), path_integral_routine=QuAPI.build_augmented_propagator)"
   ]
  },
  {
   "cell_type": "code",
   "execution_count": null,
   "id": "5f736214",
   "metadata": {},
   "outputs": [],
   "source": [
    "plot(t.*au2fs, real.(ρ[:, 1,1]), label=\"1\")\n",
    "plot!(t.*au2fs, real.(ρ[:, 2,2]), label=\"2\")\n",
    "plot!(t.*au2fs, real.(ρ[:, 3,3]), label=\"3\")\n",
    "plot!(t.*au2fs, real.(ρ[:, 4,4]), title = \"QuAPI TTM\", label=\"4\")"
   ]
  },
  {
   "cell_type": "code",
   "execution_count": null,
   "id": "3f1b588d",
   "metadata": {},
   "outputs": [],
   "source": [
    "plot(th.*au2fs, real.(ρh[:, 1,1]), label=\"1\")\n",
    "plot!(th.*au2fs, real.(ρh[:, 2,2]), label=\"2\")\n",
    "plot!(th.*au2fs, real.(ρh[:, 3,3]), label=\"3\")\n",
    "plot!(th.*au2fs, real.(ρh[:, 4,4]), title = \"HEOM\", label=\"4\")"
   ]
  },
  {
   "cell_type": "code",
   "execution_count": null,
   "id": "26ba8eda",
   "metadata": {},
   "outputs": [],
   "source": []
  }
 ],
 "metadata": {
  "kernelspec": {
   "display_name": "Julia 1.9.3",
   "language": "julia",
   "name": "julia-1.9"
  },
  "language_info": {
   "file_extension": ".jl",
   "mimetype": "application/julia",
   "name": "julia",
   "version": "1.9.3"
  }
 },
 "nbformat": 4,
 "nbformat_minor": 5
}
