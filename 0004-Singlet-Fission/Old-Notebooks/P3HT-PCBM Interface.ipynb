{
 "cells": [
  {
   "cell_type": "code",
   "execution_count": 1,
   "id": "7a5e6399-0148-4c83-9a90-d99f75944734",
   "metadata": {},
   "outputs": [],
   "source": [
    "using QuantumDynamics\n",
    "using Plots\n",
    "using LinearAlgebra"
   ]
  },
  {
   "cell_type": "code",
   "execution_count": 2,
   "id": "f161067e-cbca-4351-a29d-b7ba61b7797b",
   "metadata": {},
   "outputs": [
    {
     "data": {
      "text/plain": [
       "18.897"
      ]
     },
     "execution_count": 2,
     "metadata": {},
     "output_type": "execute_result"
    }
   ],
   "source": [
    "const thz2au = 0.0001519828500716\n",
    "const invcm2au = 4.55633e-6\n",
    "const au2fs = 0.02418884254\n",
    "const mev2invcm = 8.066\n",
    "const mev2au = mev2invcm * invcm2au\n",
    "const nm2au = 18.897"
   ]
  },
  {
   "cell_type": "markdown",
   "id": "2328e145-75a1-467e-923f-e17a1cac7f76",
   "metadata": {},
   "source": [
    "DOI : 10.1088/1361-6455/aa93d0"
   ]
  },
  {
   "cell_type": "code",
   "execution_count": 7,
   "id": "1f0d824d-4cfd-4286-b92f-ca9fb0677a14",
   "metadata": {},
   "outputs": [
    {
     "data": {
      "text/plain": [
       "6×6 Matrix{ComplexF64}:\n",
       " 0.00367514+0.0im   0.00367514+0.0im    0.0131202+0.0im  …   0.00025726+0.0im\n",
       " 0.00367514+0.0im   0.00367514+0.0im   0.00510844+0.0im     0.000477768+0.0im\n",
       "  0.0131202+0.0im   0.00510844+0.0im    0.0102904+0.0im      7.35027e-5+0.0im\n",
       " 0.00510844+0.0im    0.0131202+0.0im   3.67514e-5+0.0im      0.00606397+0.0im\n",
       " 0.00735027+0.0im  0.000514519+0.0im  0.000183757+0.0im      0.00374864+0.0im\n",
       " 0.00025726+0.0im  0.000477768+0.0im   7.35027e-5+0.0im  …   0.00514519+0.0im"
      ]
     },
     "execution_count": 7,
     "metadata": {},
     "output_type": "execute_result"
    }
   ],
   "source": [
    "    H0 = Matrix{ComplexF64}([\n",
    "        0.100 0.100 0.357 0.139 0.200 0.007\n",
    "        0.100 0.100 0.139 0.357 0.014 0.013\n",
    "        0.357 0.139 0.280 0.001 0.005 0.002\n",
    "        0.139 0.357 0.001 0.230 0.019 0.165\n",
    "        0.200 0.014 0.005 0.019 0.000 0.102\n",
    "        0.007 0.013 0.002 0.165 0.102 0.140\n",
    "    ]) * 1000 * mev2au    # Simplified Hamiltonian for 2 donor sites (the actual Hamiltonian is a larger extension and includes other couplings)"
   ]
  },
  {
   "cell_type": "code",
   "execution_count": 8,
   "id": "c122603e-8d3a-499f-8d64-aba246772873",
   "metadata": {},
   "outputs": [
    {
     "data": {
      "text/plain": [
       "6"
      ]
     },
     "execution_count": 8,
     "metadata": {},
     "output_type": "execute_result"
    }
   ],
   "source": [
    "N=6"
   ]
  },
  {
   "cell_type": "code",
   "execution_count": 6,
   "id": "801fe914-5cd0-4943-a35b-00a44361335e",
   "metadata": {},
   "outputs": [
    {
     "data": {
      "text/plain": [
       "4.134137457575099"
      ]
     },
     "execution_count": 6,
     "metadata": {},
     "output_type": "execute_result"
    }
   ],
   "source": [
    "λs = repeat([150.0], 5) * mev2invcm * invcm2au\n",
    "γs = repeat([180.0], 5) * mev2invcm * invcm2au\n",
    "JwH = Vector{SpectralDensities.DrudeLorentz}()\n",
    "sys_ops = Vector{Matrix{ComplexF64}}()\n",
    "for (j, (λ, γ)) in enumerate(zip(λs, γs))\n",
    "    push!(JwH, SpectralDensities.DrudeLorentz(; λ, γ, Δs=1.0))\n",
    "    op = zeros(5, 5)\n",
    "    op[j, j] = 1.0\n",
    "    push!(sys_ops, op)\n",
    "end\n",
    " \n",
    "nsteps = 30000\n",
    "ρ0 = Matrix{ComplexF64}(zeros(N, N))\n",
    "ρ0[1, 1] = 1.0\n",
    "\n",
    "T = 50.0:50.0:500.0\n",
    "\n",
    "β = 1 / (300 * 3.16683e-6) # T = 300K\n",
    "\n",
    "dt = 0.1/au2fs"
   ]
  },
  {
   "cell_type": "code",
   "execution_count": null,
   "id": "a4a9abbf-d524-4005-a9b0-eb43c123f9ea",
   "metadata": {},
   "outputs": [],
   "source": [
    "@time times_HEOM, ρs_HEOM = HEOM.propagate(; Hamiltonian=H0, ρ0, β, dt, ntimes=nsteps, Jw=JwH, sys_ops=sys_ops, num_modes=2, Lmax=3)"
   ]
  }
 ],
 "metadata": {
  "kernelspec": {
   "display_name": "Julia 1.10.0",
   "language": "julia",
   "name": "julia-1.10"
  },
  "language_info": {
   "file_extension": ".jl",
   "mimetype": "application/julia",
   "name": "julia",
   "version": "1.10.0"
  }
 },
 "nbformat": 4,
 "nbformat_minor": 5
}
